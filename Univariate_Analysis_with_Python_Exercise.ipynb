{
  "nbformat": 4,
  "nbformat_minor": 0,
  "metadata": {
    "colab": {
      "name": "Univariate Analysis with Python - Exercise",
      "provenance": [],
      "collapsed_sections": [
        "kLkivweO1Iii",
        "InrgA2D21MCl",
        "0CRs-dFC1ohx",
        "ck0zE_a43uV-",
        "NCrhoYJz1dUY",
        "jRKV0pa04BQH",
        "yXH8QAl71vLq",
        "6lNbN0xS4XAY",
        "QIuhupEZ1y_S",
        "GqietlVA2BUa",
        "Z6im-o4g4pK6",
        "8POt4f4D2LcH",
        "xumXllAg5A6N",
        "kKZFF5-Q6d5c",
        "32s_izI76icw",
        "DHNDapES6-4D",
        "NqN2REVg6xM7",
        "uXIKUeun7Tz6"
      ],
      "toc_visible": true,
      "include_colab_link": true
    },
    "kernelspec": {
      "name": "python3",
      "display_name": "Python 3"
    }
  },
  "cells": [
    {
      "cell_type": "markdown",
      "metadata": {
        "id": "view-in-github",
        "colab_type": "text"
      },
      "source": [
        "<a href=\"https://colab.research.google.com/github/cnyakundi/univariate_analysis_with_python/blob/master/Univariate_Analysis_with_Python_Exercise.ipynb\" target=\"_parent\"><img src=\"https://colab.research.google.com/assets/colab-badge.svg\" alt=\"Open In Colab\"/></a>"
      ]
    },
    {
      "cell_type": "markdown",
      "metadata": {
        "id": "adeOETQPnPAj"
      },
      "source": [
        "<font color=\"green\">*To start working on this notebook, or any other notebook that we will use in the Moringa Data Science Course, we will need to save our own copy of it. We can do this by clicking File > Save a Copy in Drive. We will then be able to make edits to our own copy of this notebook.*</font>"
      ]
    },
    {
      "cell_type": "markdown",
      "metadata": {
        "id": "FtNfyN9C1FSE"
      },
      "source": [
        "# Univariate Analysis with Python - Exercise"
      ]
    },
    {
      "cell_type": "markdown",
      "metadata": {
        "id": "kLkivweO1Iii"
      },
      "source": [
        "## 1.0 Importing Libraries"
      ]
    },
    {
      "cell_type": "code",
      "metadata": {
        "id": "7rB0TURq1Mfo"
      },
      "source": [
        "# Importing Pandas\n",
        "# \n",
        "import pandas as pd"
      ],
      "execution_count": null,
      "outputs": []
    },
    {
      "cell_type": "code",
      "metadata": {
        "id": "J7sTS1pS6w17"
      },
      "source": [
        "# Importing Numpy\n",
        "#\n",
        "import numpy as np"
      ],
      "execution_count": null,
      "outputs": []
    },
    {
      "cell_type": "code",
      "metadata": {
        "id": "T7fU_A8G3j2c"
      },
      "source": [
        "# Importing Seaborn\n",
        "#\n",
        "import seaborn as sns"
      ],
      "execution_count": null,
      "outputs": []
    },
    {
      "cell_type": "code",
      "metadata": {
        "id": "h9m2KAfqKr_R"
      },
      "source": [
        "# Importing Matplotlib\n",
        "#\n",
        "import matplotlib.pyplot as plt"
      ],
      "execution_count": null,
      "outputs": []
    },
    {
      "cell_type": "markdown",
      "metadata": {
        "id": "InrgA2D21MCl"
      },
      "source": [
        "## 1.2 Categorical Variables"
      ]
    },
    {
      "cell_type": "markdown",
      "metadata": {
        "id": "0CRs-dFC1ohx"
      },
      "source": [
        "### 1.21 Frequency Tables"
      ]
    },
    {
      "cell_type": "code",
      "metadata": {
        "id": "S1BPZ36A1LiF",
        "colab": {
          "base_uri": "https://localhost:8080/"
        },
        "outputId": "c37a51c7-c5f4-4099-87b5-2935b77b4166"
      },
      "source": [
        "# Example 1\n",
        "# ---\n",
        "# Creating Frequency table of column using the value_counts() function\n",
        "# ---\n",
        "# \n",
        "\n",
        "data = {'Name':['John', 'Paul', 'Jame','Mark', 'Susan', 'Ruth', 'Ragna', 'Irene', 'Gilbert', 'Esther', 'Salome', 'Moses'],\n",
        "       'County':['Nairobi', 'Kiambu', 'Mombasa', 'Kisumu', 'Kiambu', 'Mombasa', 'Nairobi', 'Mombasa', 'Kisumu', 'Nairobi', 'Kiambu','Mombasa']}\n",
        " \n",
        "# Creating our dataframe\n",
        "frequency_df = pd.DataFrame(data, columns=['Name', 'County'])\n",
        "frequency_df\n",
        "\n",
        "# Creating our frequency table\n",
        "# ---\n",
        "frequency_df['County'].value_counts()"
      ],
      "execution_count": null,
      "outputs": [
        {
          "output_type": "execute_result",
          "data": {
            "text/plain": [
              "Mombasa    4\n",
              "Nairobi    3\n",
              "Kiambu     3\n",
              "Kisumu     2\n",
              "Name: County, dtype: int64"
            ]
          },
          "metadata": {},
          "execution_count": 6
        }
      ]
    },
    {
      "cell_type": "markdown",
      "metadata": {
        "id": "ck0zE_a43uV-"
      },
      "source": [
        "#### <font color=\"green\">1.21 Challenges</font>"
      ]
    },
    {
      "cell_type": "code",
      "metadata": {
        "id": "UNbhFPzR33L6",
        "colab": {
          "base_uri": "https://localhost:8080/"
        },
        "outputId": "64af027a-4f74-4879-ed7c-1b4a97a4e276"
      },
      "source": [
        "# Challenge 1\n",
        "# ---\n",
        "# Question: Generate a frequency table from the categorical data in the following dataset\n",
        "# ---\n",
        "url = \"http://bit.ly/IrisDataset\"\n",
        "df=pd.read_csv(url)\n",
        "# \n",
        "df['species'].value_counts()\n",
        "\n"
      ],
      "execution_count": null,
      "outputs": [
        {
          "output_type": "execute_result",
          "data": {
            "text/plain": [
              "Iris-virginica     50\n",
              "Iris-versicolor    50\n",
              "Iris-setosa        50\n",
              "Name: species, dtype: int64"
            ]
          },
          "metadata": {},
          "execution_count": 7
        }
      ]
    },
    {
      "cell_type": "markdown",
      "metadata": {
        "id": "NCrhoYJz1dUY"
      },
      "source": [
        "### 1.22 Bar Charts and Histograms"
      ]
    },
    {
      "cell_type": "code",
      "metadata": {
        "id": "_3kf4a5q1ylu",
        "colab": {
          "base_uri": "https://localhost:8080/",
          "height": 294
        },
        "outputId": "d56ddc1f-b903-4035-8584-091fc6ccda69"
      },
      "source": [
        "# Example 1\n",
        "# ---\n",
        "# Bar charts are used to display values associated with categorical data.\n",
        "# ---\n",
        "# \n",
        "\n",
        "# Defining our data\n",
        "x = ['Nuclear', 'Hydro', 'Gas', 'Oil', 'Coal', 'Biofuel']\n",
        "energy = [5, 6, 15, 22, 24, 8]\n",
        " \n",
        "\n",
        "plt.bar(x, energy, color='green')\n",
        "\n",
        "# Labelling our x axis\n",
        "plt.xlabel(\"Energy Source\")\n",
        "\n",
        "# Labelling our y axis\n",
        "plt.ylabel(\"Energy Output (GJ)\")\n",
        "\n",
        "# Giving a title to our Bar chart\n",
        "plt.title(\"Energy output from various fuel sources\")\n",
        "\n",
        "# Displaying our chart\n",
        "plt.show()"
      ],
      "execution_count": null,
      "outputs": [
        {
          "output_type": "display_data",
          "data": {
            "image/png": "[encoded data removed]",
            "text/plain": [
              "<Figure size 432x288 with 1 Axes>"
            ]
          },
          "metadata": {
            "needs_background": "light"
          }
        }
      ]
    },
    {
      "cell_type": "code",
      "metadata": {
        "id": "RWgB6pZg3-o6",
        "colab": {
          "base_uri": "https://localhost:8080/",
          "height": 294
        },
        "outputId": "7be39eec-dcd2-4f84-cbc1-ed40463fcc13"
      },
      "source": [
        "# Example 2\n",
        "# ---\n",
        "# We can also create the exact same chart horizontally as shown \n",
        "# ---\n",
        "# \n",
        "\n",
        "x = ['Nuclear', 'Hydro', 'Gas', 'Oil', 'Coal', 'Biofuel']\n",
        "energy = [15, 16, 25, 32, 34, 18]  \n",
        "\n",
        "plt.barh(x, energy)\n",
        "plt.ylabel(\"Energy Source\")\n",
        "plt.xlabel(\"Energy Output (GJ)\")\n",
        "plt.title(\"Energy output from various fuel sources\")\n",
        "plt.show()"
      ],
      "execution_count": null,
      "outputs": [
        {
          "output_type": "display_data",
          "data": {
            "image/png": "[encoded data removed]",
            "text/plain": [
              "<Figure size 432x288 with 1 Axes>"
            ]
          },
          "metadata": {
            "needs_background": "light"
          }
        }
      ]
    },
    {
      "cell_type": "code",
      "metadata": {
        "id": "n21agJh93_w0",
        "colab": {
          "base_uri": "https://localhost:8080/",
          "height": 294
        },
        "outputId": "51bdaf96-85e3-46dc-acd1-c529cfd96db4"
      },
      "source": [
        "# Example 3\n",
        "# ---\n",
        "# Very much like a bar chart, histograms tend to show distribution by grouping segments together. \n",
        "# Examples of this might be age groups, or scores on a test. \n",
        "# Rather than showing every single age a group might be, maybe you just show people from 20-25, 25-30... and so on.\n",
        "# ---\n",
        "#\n",
        "\n",
        "population_ages = [22, 55, 62, 45, 21, 22, 34, 42, 42, 4, 99, 102, 110, 120, 121, 122, 130, 111, 115, 112, 80, 75, 65, 54, 44, 43, 42, 48]\n",
        "bins           = [0, 10, 20, 30, 40, 50, 60, 70, 80, 90, 100, 110, 120, 130]\n",
        "\n",
        "#plt.hist(population_ages, bins=10, histtype='bar', rwidth=0.9,)\n",
        "\n",
        "plt.hist(population_ages,)\n",
        "\n",
        "plt.xlabel('bins')\n",
        "plt.ylabel('population_ages')\n",
        "plt.title('Histogram of Population') \n",
        "plt.show()"
      ],
      "execution_count": null,
      "outputs": [
        {
          "output_type": "display_data",
          "data": {
            "image/png": "[encoded data removed]",
            "text/plain": [
              "<Figure size 432x288 with 1 Axes>"
            ]
          },
          "metadata": {
            "needs_background": "light"
          }
        }
      ]
    },
    {
      "cell_type": "code",
      "metadata": {
        "id": "eGXHLiBY8jbI",
        "colab": {
          "base_uri": "https://localhost:8080/",
          "height": 294
        },
        "outputId": "53193359-9e23-4384-ae02-0dfb7b486b36"
      },
      "source": [
        "# Example 4\n",
        "# ---\n",
        "# Creating a histogram from a given dataset using values from the points column\n",
        "# ---\n",
        "\n",
        "url = \"http://bit.ly/WineDataset\"\n",
        "# ---\n",
        "#\n",
        "\n",
        "# Loading out dataset\n",
        "wine_df = pd.read_csv(url)\n",
        "\n",
        "wine_df.head()\n",
        "\n",
        "wine_points = wine_df['points']\n",
        "wine_points\n",
        "\n",
        "plt.hist(wine_points, bins=10, rwidth=0.9,stacked=False)\n",
        "plt.xlabel('No. of Wines')\n",
        "plt.ylabel('Quantity')\n",
        "plt.title('Histogram of Points of Wine vs No. of Wines')\n",
        "plt.show()"
      ],
      "execution_count": null,
      "outputs": [
        {
          "output_type": "display_data",
          "data": {
            "image/png": "[encoded data removed]",
            "text/plain": [
              "<Figure size 432x288 with 1 Axes>"
            ]
          },
          "metadata": {
            "needs_background": "light"
          }
        }
      ]
    },
    {
      "cell_type": "markdown",
      "metadata": {
        "id": "jRKV0pa04BQH"
      },
      "source": [
        "#### <font color=\"green\">1.22 Challenges</font>"
      ]
    },
    {
      "cell_type": "code",
      "metadata": {
        "id": "VWgtpnM54Mf7",
        "colab": {
          "base_uri": "https://localhost:8080/",
          "height": 294
        },
        "outputId": "d996de1c-d5e9-4c7d-c8bc-864133c59904"
      },
      "source": [
        "# Challenge 1\n",
        "# ---\n",
        "# Question: Create a bar chart given the following dataset\n",
        "# ---\n",
        "# \n",
        "languages = ('Python', 'C++', 'Java', 'Perl', 'Scala', 'Lisp') \n",
        "performance = [20, 18, 66, 14, 12, 11]\n",
        "\n",
        "plt.bar(languages,performance)\n",
        "plt.title(' Programming Languages and performence')\n",
        "plt.xlabel('Programming Languages')\n",
        "plt.ylabel('Performence')\n",
        "plt.show()"
      ],
      "execution_count": null,
      "outputs": [
        {
          "output_type": "display_data",
          "data": {
            "image/png": "[encoded data removed]",
            "text/plain": [
              "<Figure size 432x288 with 1 Axes>"
            ]
          },
          "metadata": {
            "needs_background": "light"
          }
        }
      ]
    },
    {
      "cell_type": "code",
      "metadata": {
        "id": "FUy2tpOl4Nax",
        "colab": {
          "base_uri": "https://localhost:8080/",
          "height": 312
        },
        "outputId": "858d5977-3c1d-40cf-9cd8-26cb88454486"
      },
      "source": [
        "# Challenge 2\n",
        "# ---\n",
        "# Question: Create a histogram from the following data\n",
        "# ---\n",
        "# \n",
        "x = [21, 22, 23, 4, 5, 6, 77, 8, 9, 10, 31, 32, 33, 34, 35, 36, 37, 18, 49, 50, 100]\n",
        "num_bins = 5\n",
        "\n",
        "plt.hist(x, bins=num_bins, histtype='bar' )\n",
        "\n",
        "plt.title('Histogram of random numbers and their frequency')\n",
        "plt.xlabel('Random numbers')\n",
        "plt.ylabel('Frequency')"
      ],
      "execution_count": null,
      "outputs": [
        {
          "output_type": "execute_result",
          "data": {
            "text/plain": [
              "Text(0, 0.5, 'Frequency')"
            ]
          },
          "metadata": {},
          "execution_count": 13
        },
        {
          "output_type": "display_data",
          "data": {
            "image/png": "[encoded data removed]",
            "text/plain": [
              "<Figure size 432x288 with 1 Axes>"
            ]
          },
          "metadata": {
            "needs_background": "light"
          }
        }
      ]
    },
    {
      "cell_type": "code",
      "metadata": {
        "id": "eQV9iT2u4Po_",
        "colab": {
          "base_uri": "https://localhost:8080/",
          "height": 312
        },
        "outputId": "c4eb4850-c7a6-4296-d1b0-29c190e0f8bf"
      },
      "source": [
        "# Challenge 3\n",
        "# ---\n",
        "# Question: Create a histogram from a given dataset using values from the sepal length column\n",
        "# ---\n",
        "url = \"http://bit.ly/IrisDataset\"\n",
        "# ---\n",
        "# \n",
        "df=pd.read_csv(url)\n",
        "\n",
        "df.head()\n",
        "\n",
        "df.species.value_counts()\n",
        "\n",
        "plt.hist(df.species)\n",
        "\n",
        "plt.title(\"Species per names\")\n",
        "plt.ylabel(\"Species  count\")\n",
        "plt.xlabel(\" Type of species\")"
      ],
      "execution_count": null,
      "outputs": [
        {
          "output_type": "execute_result",
          "data": {
            "text/plain": [
              "Text(0.5, 0, ' Type of species')"
            ]
          },
          "metadata": {},
          "execution_count": 14
        },
        {
          "output_type": "display_data",
          "data": {
            "image/png": "[encoded data removed]",
            "text/plain": [
              "<Figure size 432x288 with 1 Axes>"
            ]
          },
          "metadata": {
            "needs_background": "light"
          }
        }
      ]
    },
    {
      "cell_type": "markdown",
      "metadata": {
        "id": "yXH8QAl71vLq"
      },
      "source": [
        "### 1.23 Pie Charts"
      ]
    },
    {
      "cell_type": "code",
      "metadata": {
        "id": "UXYA0eoB09kd",
        "colab": {
          "base_uri": "https://localhost:8080/",
          "height": 268
        },
        "outputId": "e5b5e18c-98f4-4d32-d222-c2f7d76486c6"
      },
      "source": [
        "# Example 1\n",
        "# ---\n",
        "# Question: Create a pie chart usig the sizes list given below\n",
        "# ---\n",
        "#\n",
        "\n",
        "# Defining our labels, sizes, colors and explode (this will explode the 1st slice)\n",
        "labels = 'Python', 'C++', 'Ruby', 'Java'\n",
        "sizes  = [215, 130, 245, 210]\n",
        "colors = ['gold', 'yellowgreen', 'lightcoral', 'lightskyblue']\n",
        "\n",
        "# Highlights a particular Value in plot\n",
        "explode = (0.1, 0, 0, 0)  \n",
        "\n",
        "# Plotting our pie chart\n",
        "plt.pie(sizes, explode=explode, labels=labels, colors=colors,\n",
        "autopct='%1.1f%%', shadow=True, startangle=140)\n",
        "\n",
        "plt.axis('equal')\n",
        "plt.title('Pie Chart of Programming Languages')\n",
        "plt.show()"
      ],
      "execution_count": null,
      "outputs": [
        {
          "output_type": "display_data",
          "data": {
            "image/png": "[encoded data removed]",
            "text/plain": [
              "<Figure size 432x288 with 1 Axes>"
            ]
          },
          "metadata": {}
        }
      ]
    },
    {
      "cell_type": "code",
      "metadata": {
        "id": "4IIwpXsF4To9",
        "colab": {
          "base_uri": "https://localhost:8080/",
          "height": 516
        },
        "outputId": "22706447-0235-408e-b88c-6b8e1c4ee546"
      },
      "source": [
        "# Example 2\n",
        "# ---\n",
        "# Question: Create a pie chart to show the distribution of age and population\n",
        "# ---\n",
        "# \n",
        "\n",
        "# Loading out dataset\n",
        "df = pd.read_csv(\"http://bit.ly/AgePopulationDataset\")\n",
        "\n",
        "# Previewing the dataset \n",
        "df.head()\n",
        "\n",
        "# Assigning our columns to population and age variables\n",
        "population = df['population']\n",
        "age        = df['age']\n",
        "\n",
        "# Plotting our pie chart\n",
        "# -------\n",
        "plt.pie(population, labels = age, autopct = '%1.1f%%', shadow = True, startangle = 140)\n",
        "plt.axis('equal')\n",
        "plt.title('Pie Chart of Age population')\n",
        "plt.show()\n"
      ],
      "execution_count": null,
      "outputs": [
        {
          "output_type": "display_data",
          "data": {
            "image/png": "[encoded data removed]",
            "text/plain": [
              "<Figure size 432x288 with 1 Axes>"
            ]
          },
          "metadata": {}
        },
        {
          "output_type": "execute_result",
          "data": {
            "text/html": [
              "<div>\n",
              "<style scoped>\n",
              "    .dataframe tbody tr th:only-of-type {\n",
              "        vertical-align: middle;\n",
              "    }\n",
              "\n",
              "    .dataframe tbody tr th {\n",
              "        vertical-align: top;\n",
              "    }\n",
              "\n",
              "    .dataframe thead th {\n",
              "        text-align: right;\n",
              "    }\n",
              "</style>\n",
              "<table border=\"1\" class=\"dataframe\">\n",
              "  <thead>\n",
              "    <tr style=\"text-align: right;\">\n",
              "      <th></th>\n",
              "      <th>age</th>\n",
              "      <th>population</th>\n",
              "    </tr>\n",
              "  </thead>\n",
              "  <tbody>\n",
              "    <tr>\n",
              "      <th>0</th>\n",
              "      <td>&lt;5</td>\n",
              "      <td>2704659</td>\n",
              "    </tr>\n",
              "    <tr>\n",
              "      <th>1</th>\n",
              "      <td>5-13</td>\n",
              "      <td>4499890</td>\n",
              "    </tr>\n",
              "    <tr>\n",
              "      <th>2</th>\n",
              "      <td>14-17</td>\n",
              "      <td>2159981</td>\n",
              "    </tr>\n",
              "    <tr>\n",
              "      <th>3</th>\n",
              "      <td>18-24</td>\n",
              "      <td>3853788</td>\n",
              "    </tr>\n",
              "    <tr>\n",
              "      <th>4</th>\n",
              "      <td>25-44</td>\n",
              "      <td>14106543</td>\n",
              "    </tr>\n",
              "    <tr>\n",
              "      <th>5</th>\n",
              "      <td>45-64</td>\n",
              "      <td>8819342</td>\n",
              "    </tr>\n",
              "    <tr>\n",
              "      <th>6</th>\n",
              "      <td>≥65</td>\n",
              "      <td>612463</td>\n",
              "    </tr>\n",
              "  </tbody>\n",
              "</table>\n",
              "</div>"
            ],
            "text/plain": [
              "     age  population\n",
              "0     <5     2704659\n",
              "1   5-13     4499890\n",
              "2  14-17     2159981\n",
              "3  18-24     3853788\n",
              "4  25-44    14106543\n",
              "5  45-64     8819342\n",
              "6    ≥65      612463"
            ]
          },
          "metadata": {},
          "execution_count": 62
        }
      ]
    },
    {
      "cell_type": "markdown",
      "metadata": {
        "id": "6lNbN0xS4XAY"
      },
      "source": [
        "#### <font color=\"green\">1.23 Challenges</font>"
      ]
    },
    {
      "cell_type": "code",
      "metadata": {
        "id": "SDYT8o0U4WE9",
        "colab": {
          "base_uri": "https://localhost:8080/",
          "height": 264
        },
        "outputId": "ed2e8103-dbbf-4fa1-bbf1-8321be353497"
      },
      "source": [
        "# Challenge 1\n",
        "# ---\n",
        "# Question: Create a pie chart of county population given the following\n",
        "# ---\n",
        "# \n",
        "\n",
        "county_population = [12344408, 2441523, 30523371, 110012442, 47886051]\n",
        "counties = ['Thika', 'Mombasa', 'Kisumu', 'Nairobi', 'Nakuru']\n",
        "\n",
        "plt.pie(county_population, labels=counties, startangle=145 )\n",
        "plt.title('Pie Chart of Counties population')\n",
        "plt.axis('equal')\n",
        "plt.show()"
      ],
      "execution_count": null,
      "outputs": [
        {
          "output_type": "display_data",
          "data": {
            "image/png": "[encoded data removed]",
            "text/plain": [
              "<Figure size 432x288 with 1 Axes>"
            ]
          },
          "metadata": {}
        }
      ]
    },
    {
      "cell_type": "code",
      "metadata": {
        "id": "xRcsBrgL4jDB",
        "colab": {
          "base_uri": "https://localhost:8080/",
          "height": 248
        },
        "outputId": "cc907c39-a512-4053-f09f-faab8847bb74"
      },
      "source": [
        "# Challenge 2\n",
        "# ---\n",
        "# Question: Acting as Chief Data Strategist for a ride sharing company, \n",
        "# you are expected to offer data-backed guidance on new opportunities for market differentiation.\n",
        "# Merge the two datasets into a single dataset based on the cities they share then \n",
        "# produce the following pie chart: Pie Chart of % of Total Fares by City Type.\n",
        "# Hint: When making the pie Chart, experiment with effects like shadow, startangle, and explosion\n",
        "url = \"http://bit.ly/City-RideDataset\"\n",
        "url1 = \"http://bit.ly/RideDataset\"\n",
        "\n",
        "df=pd.read_csv(url)\n",
        "\n",
        "df1=pd.read_csv(url1)\n",
        "\n",
        "merged_dataset=df.merge(df1, on='city')\n",
        "\n",
        "merged_dataset.head()\n",
        "\n",
        "# Pie Chart of % of Total Fares by City Type.\n",
        "\n",
        "fare=merged_dataset['fare']/100\n",
        "\n",
        "city_type=merged_dataset['type']\n",
        "\n",
        "\n",
        "plt.pie(fare, labels=city_type)\n",
        "\n",
        "plt.show()\n",
        "\n",
        "\n"
      ],
      "execution_count": null,
      "outputs": [
        {
          "output_type": "display_data",
          "data": {
            "image/png": "[encoded data removed]",
            "text/plain": [
              "<Figure size 432x288 with 1 Axes>"
            ]
          },
          "metadata": {}
        }
      ]
    },
    {
      "cell_type": "code",
      "metadata": {
        "id": "EpTRmGQF4kyA",
        "colab": {
          "base_uri": "https://localhost:8080/",
          "height": 248
        },
        "outputId": "b10e301d-9674-4125-986b-599196fe8ee3"
      },
      "source": [
        "# Challenge 3\n",
        "# ---\n",
        "# Question: From the combined dataset in Challenge 2, \n",
        "# create a pie chart of % of Total Rides by City Type\n",
        "\n",
        "types=merged_dataset['type'].value_counts()\n",
        "\n",
        "rides=merged_dataset['driver_count']\n",
        "\n",
        "len(rides)\n",
        "\n",
        "\n",
        "plt.pie(types)\n",
        "\n",
        "plt.show()\n",
        "\n",
        "\n"
      ],
      "execution_count": null,
      "outputs": [
        {
          "output_type": "display_data",
          "data": {
            "image/png": "[encoded data removed]",
            "text/plain": [
              "<Figure size 432x288 with 1 Axes>"
            ]
          },
          "metadata": {}
        }
      ]
    },
    {
      "cell_type": "code",
      "metadata": {
        "id": "H4FACJNg6kPw"
      },
      "source": [
        "# Challenge 4\n",
        "# ---\n",
        "# Question: From the combined dataset in Challenge 2, \n",
        "# create a pie chart % of Total Drivers by City Type\n",
        "# ---\n",
        "#\n",
        "OUR CODE GOES HERE"
      ],
      "execution_count": null,
      "outputs": []
    },
    {
      "cell_type": "markdown",
      "metadata": {
        "id": "QIuhupEZ1y_S"
      },
      "source": [
        "## 1.3 Numerical Variables"
      ]
    },
    {
      "cell_type": "markdown",
      "metadata": {
        "id": "GqietlVA2BUa"
      },
      "source": [
        "### 1.31 Measures of Central Tendency"
      ]
    },
    {
      "cell_type": "code",
      "metadata": {
        "id": "u_W0Wibz13A8"
      },
      "source": [
        "# Example 1: Mean\n",
        "# Mean or Average is a central tendency of the data i.e. a number around which a whole data is spread out. \n",
        "# In a way, it is a single number which can estimate the value of whole data set.\n",
        "# ---\n",
        "# Question: From the following dataset, What is the mean monthly consumption and export of tea in millions of kg between 2003 and 2015\n",
        "# Dataset url = http://bit.ly/tea-exports\n",
        "# ---\n",
        "\n",
        "# Loading the dataset\n",
        "tea_exports_df = pd.read_csv(\"http://bit.ly/tea-exports\")\n",
        "\n",
        "# Previewing the dataset\n",
        "# tea_exports_df.head()\n",
        "\n",
        "# Finding the mean\n",
        "tea_exports_df[\"Millions_in_KGS_\"].mean()"
      ],
      "execution_count": null,
      "outputs": []
    },
    {
      "cell_type": "code",
      "metadata": {
        "id": "2DPrdaoc16tZ"
      },
      "source": [
        "# Example 2: Median\n",
        "# Median is the value which divides the data in 2 equal parts i.e. number of terms on right side of it \n",
        "# is same as number of terms on left side of it when data is arranged in either ascending or descending order.\n",
        "# ---\n",
        "# Question: From the following dataset, What was the monthly median fish production(kgs) in Kisumu sub county?\n",
        "# Dataset url = http://bit.ly/Kisumu-fish-production\n",
        "# ---\n",
        "# \n",
        "\n",
        "# Loading the dataset\n",
        "kisumu_fish_production_df = pd.read_csv(\"http://bit.ly/Kisumu-fish-production\")\n",
        "\n",
        "# Previewing the dataset\n",
        "# kisumu_fish_production_df.head()\n",
        "\n",
        "# Finding the median\n",
        "kisumu_fish_production_df[\"WEIGHT_KGS\"].median()"
      ],
      "execution_count": null,
      "outputs": []
    },
    {
      "cell_type": "code",
      "metadata": {
        "id": "eYO9eGyH125E"
      },
      "source": [
        "# Example 3: Mode \n",
        "# Mode is the term appearing maximum time in data set i.e. term that has highest frequency.\n",
        "# ---\n",
        "# Question: From the given dataset, what was the mode target yield bags per hectare during the long rains?\n",
        "# Dataset url = http://bit.ly/Kisumu-crop-statistics\n",
        "# ---\n",
        "#\n",
        "\n",
        "# Loading the dataset\n",
        "kisumu_crop_statistics_df = pd.read_csv(\"http://bit.ly/Kisumu-crop-statistics\")\n",
        "\n",
        "# Previewing the dataset\n",
        "kisumu_crop_statistics_df.head()\n",
        "\n",
        "# Finding the median\n",
        "kisumu_crop_statistics_df[\"TARGET_YIELD__BAG/HA_LONG_RAINS\"].mode()"
      ],
      "execution_count": null,
      "outputs": []
    },
    {
      "cell_type": "markdown",
      "metadata": {
        "id": "Z6im-o4g4pK6"
      },
      "source": [
        "#### <font color=\"green\">1.32 Challenges</font>"
      ]
    },
    {
      "cell_type": "code",
      "metadata": {
        "id": "bd8oXas94osH"
      },
      "source": [
        "# Challenge 1: Mean\n",
        "# ---\n",
        "# Question: What was the mean target production bags of 90kg during short rains?\n",
        "# Dataset url = http://bit.ly/Kisumu-crop-statistics\n",
        "# ---\n",
        "# \n",
        "OUR CODE GOES HERE"
      ],
      "execution_count": null,
      "outputs": []
    },
    {
      "cell_type": "code",
      "metadata": {
        "id": "lOwXYPaO4x7u"
      },
      "source": [
        "# Challenge 2: Median\n",
        "# ---\n",
        "# Question: What was the median target production bags during long rains?\n",
        "# Dataset url = http://bit.ly/Kisumu-crop-statistics\n",
        "# ---\n",
        "#\n",
        "OUR CODE GOES HERE"
      ],
      "execution_count": null,
      "outputs": []
    },
    {
      "cell_type": "code",
      "metadata": {
        "id": "JyOIjUMD4y-7"
      },
      "source": [
        "# Challenge 3: Mode \n",
        "# ---\n",
        "# Question: What was the mode projected yield bags per hectare during short rains?\n",
        "# Dataset url = http://bit.ly/Kisumu-crop-statistics\n",
        "# ---\n",
        "#\n",
        "OUR CODE GOES HERE"
      ],
      "execution_count": null,
      "outputs": []
    },
    {
      "cell_type": "markdown",
      "metadata": {
        "id": "8POt4f4D2LcH"
      },
      "source": [
        "### 1.32 Measures of Dispersion/Variability/Spread"
      ]
    },
    {
      "cell_type": "code",
      "metadata": {
        "id": "kZeJoLg_2R3Q"
      },
      "source": [
        "# Example 1: Standard Deviation  \n",
        "# Standard deviation is the measurement of average distance between each quantity and mean. \n",
        "# That is, how data is spread out from mean. A low standard deviation indicates that the data points \n",
        "# tend to be close to the mean of the data set, while a high standard deviation indicates that the \n",
        "# data points are spread out over a wider range of values.\n",
        "# There are situations when we have to choose between sample or population Standard Deviation. \n",
        "# When we are asked to find SD of some part of a population, a segment of population; \n",
        "# then we use sample Standard Deviation. But when we have to deal with a whole population, \n",
        "# then we use population Standard Deviation. As you know, in descriptive statistics, \n",
        "# we generally deal with a data available in a sample, not in a population.\n",
        "# ---\n",
        "# Question: What was the standard deviation for the Nakuru Couty Herbicide average prices?\n",
        "# Dataset url = http://bit.ly/NakuruCountyHerbicidePrices\n",
        "# ----\n",
        "# \n",
        "\n",
        "# Loading the dataset\n",
        "nakuru_county_herbicide_prices_df = pd.read_csv(\"http://bit.ly/NakuruCountyHerbicidePrices\")\n",
        "\n",
        "# Previewing the dataset\n",
        "# nakuru_county_herbicide_prices_df.head()\n",
        "\n",
        "# Finding the standard deviation\n",
        "nakuru_county_herbicide_prices_df[\"Average_Price\"].std()"
      ],
      "execution_count": null,
      "outputs": []
    },
    {
      "cell_type": "code",
      "metadata": {
        "id": "P8vUwmx3-8iB"
      },
      "source": [
        "# Example 2: Variance\n",
        "# Variance is a square of average distance between each quantity and mean. \n",
        "# That is it is square of standard deviation. It is a measure of how dispersed or spread out the set is, \n",
        "# something that the “average” (mean or median) is not designed to do. \n",
        "# If I tell you a data set has a variance of zero, for example, you know that every member of it is the same. \n",
        "# If the variance is high, especially as a ratio to the mean, \n",
        "# that tells you that the data have some very large dis-similarities amongst its members. \n",
        "# If one considers the mean to be a sort of centre of the data, \n",
        "# the variance tells you how scattered around the centre of mass the points are.\n",
        "# ---\n",
        "# Question: What was the variance of the Nakuru Couty Herbicide average prices?\n",
        "# Dataset url = http://bit.ly/NakuruCountyHerbicidePrices\n",
        "# ---\n",
        "#  \n",
        "\n",
        "# Finding the variance of the herbicide average prices\n",
        "nakuru_county_herbicide_prices_df[\"Average_Price\"].var()"
      ],
      "execution_count": null,
      "outputs": []
    },
    {
      "cell_type": "code",
      "metadata": {
        "id": "j73naeos2RRR"
      },
      "source": [
        "# Examples 3: Range\n",
        "# Range is one of the simplest techniques of descriptive statistics. \n",
        "# It is the difference between lowest and highest value.\n",
        "# ---\n",
        "# Question: What was the range of the Nakuru county herbicide prices?\n",
        "# Dataset url = http://bit.ly/NakuruCountyHerbicidePrices\n",
        "# ---\n",
        "#\n",
        "\n",
        "# Finding the min and max values of the herbicide average prices\n",
        "nakuru_county_herbicide_prices_max = nakuru_county_herbicide_prices_df[\"Average_Price\"].max()\n",
        "nakuru_county_herbicide_prices_min = nakuru_county_herbicide_prices_df[\"Average_Price\"].min()\n",
        "\n",
        "# Calculating the range\n",
        "nakuru_county_herbicide_prices_max - nakuru_county_herbicide_prices_min"
      ],
      "execution_count": null,
      "outputs": []
    },
    {
      "cell_type": "code",
      "metadata": {
        "id": "UobGI2kj2Q3Y"
      },
      "source": [
        "# Example 4: Quantiles \n",
        "# In statistics and probability, quartiles are values that divide your data into quarters provided data is sorted in an ascending order. \n",
        "# There are three quartile values. First quartile value is at 25 percentile. \n",
        "# Second quartile is 50 percentile and third quartile is 75 percentile. \n",
        "# Second quartile (Q2) is median of the whole data. First quartile (Q1) is median of upper half of the data. \n",
        "# And Third Quartile (Q3) is median of lower half of the data.\n",
        "# ---\n",
        "# Question: Determine the quantiles of the Nakuru county herbicide prices\n",
        "# Dataset url = http://bit.ly/NakuruCountyHerbicidePrices\n",
        "# ---\n",
        "# \n",
        "\n",
        "# Finding the quantiles of the herbicide average prices\n",
        "nakuru_county_herbicide_prices_df[\"Average_Price\"].quantile([0.25,0.5,0.75])"
      ],
      "execution_count": null,
      "outputs": []
    },
    {
      "cell_type": "code",
      "metadata": {
        "id": "j_9rzQpe3UEE"
      },
      "source": [
        "# Examples 5: Skewness\n",
        "# Skewness is a measure of the asymmetry of the probability distribution (http://bit.ly/ProbabilityDistribution)\n",
        "# of a real-valued random variable about its mean. The skewness value can be positive or negative, or undefined.\n",
        "# In a perfect normal distribution, the tails on either side of the curve are exact mirror images of each other.\n",
        "# When a distribution is skewed to the left, the tail on the curve’s left-hand side is longer than the tail on the right-hand side,\n",
        "# and the mean is less than the mode. This situation is also called negative skewness.\n",
        "# When a distribution is skewed to the right, the tail on the curve’s right-hand side is longer than the tail on the left-hand side, \n",
        "# and the mean is greater than the mode. This situation is also called positive skewness.\n",
        "# It is important for researchers from the behavioral and business sciences to measure skewness when it appears in their data. \n",
        "# Great amount of skewness may motivate the data scientist to investigate the existence of outliers. \n",
        "# When making decisions about which measure of location to report and which inferential statistic to employ, \n",
        "# one should take into consideration the estimated skewness of the population.\n",
        "# A negative value means the distribution is negatively skewed. A positive value means the distribution is positively skewed.\n",
        "# ---\n",
        "# Question: Determine the skewness of the Nakuru county herbicide prices.\n",
        "# Dataset url = http://bit.ly/NakuruCountyHerbicidePrices\n",
        "# ---\n",
        "#\n",
        "\n",
        "# Determining the skeweness\n",
        "nakuru_county_herbicide_prices_df[\"Average_Price\"].skew()"
      ],
      "execution_count": null,
      "outputs": []
    },
    {
      "cell_type": "code",
      "metadata": {
        "id": "HTwjeGEy3XAB"
      },
      "source": [
        "# Examples 6: Kurtosis\n",
        "# The exact interpretation of the measure of Kurtosis used to be disputed, but is now settled. \n",
        "# Its about existence of outliers. Kurtosis is a measure of whether the data are heavy-tailed (profusion of outliers)\n",
        "# or light-tailed (lack of outliers) relative to a normal distribution.\n",
        "# There are three types of Kurtosis: Mesokurtic, Leptokurtic, Mesokurtic and Platykurtic. \n",
        "# ***\n",
        "# Mesokurtic is the distribution which has similar kurtosis as normal distribution kurtosis, which is zero.\n",
        "# ***\n",
        "# Leptokurtic is the distribution which has kurtosis greater than a Mesokurtic distribution. Tails of such distributions are thick and heavy. \n",
        "# If the curve of a distribution is more peaked than Mesokurtic curve, it is referred to as a Leptokurtic curve.\n",
        "# ***\n",
        "# Platykurtic is the distribution which has kurtosis lesser than a Mesokurtic distribution. Tails of such distributions thinner. \n",
        "# If a curve of a distribution is less peaked than a Mesokurtic curve, it is referred to as a Platykurtic curve.\n",
        "# \n",
        "# If the kurtosis is close to 0, then a normal distribution is often assumed. These are called mesokurtic distributions. \n",
        "# If the kurtosis is less than zero, then the distribution is light tails and is called a platykurtic distribution.  \n",
        "# If the kurtosis is greater than zero, then the distribution has heavier tails and is called a leptokurtic distribution.\n",
        "# ---\n",
        "# Question: Determine the Kurtosis of the Nakuru county herbicide prices \n",
        "# Dataset url = http://bit.ly/NakuruCountyHerbicidePrices\n",
        "# ---\n",
        "#\n",
        "\n",
        "# Determining the skeweness \n",
        "nakuru_county_herbicide_prices_df[\"Average_Price\"].kurt()"
      ],
      "execution_count": null,
      "outputs": []
    },
    {
      "cell_type": "code",
      "metadata": {
        "id": "cN5YUpsblCLC"
      },
      "source": [
        "# Example 7: Displaying the summary statistics of the dataframe\n",
        "#\n",
        "nakuru_county_herbicide_prices_df['Average_Price'].describe()\n"
      ],
      "execution_count": null,
      "outputs": []
    },
    {
      "cell_type": "markdown",
      "metadata": {
        "id": "xumXllAg5A6N"
      },
      "source": [
        "#### <font color=\"green\">1.32 Challenges</font>"
      ]
    },
    {
      "cell_type": "code",
      "metadata": {
        "id": "gXnEzujX5Gi0"
      },
      "source": [
        "# Challenge 1: Standard Deviation\n",
        "# ---\n",
        "# What was the variance of end of reporting month surplus for the 90kg bags?\n",
        "# Dataset url = http://bit.ly/KisumuFoodSecurtyDataset\n",
        "# ---\n",
        "# \n",
        "OUR CODE GOES HERE "
      ],
      "execution_count": null,
      "outputs": []
    },
    {
      "cell_type": "code",
      "metadata": {
        "id": "233fZPZb3aE8"
      },
      "source": [
        "# Challenge 2: Variance \n",
        "# ---\n",
        "# What was the variance of end of reporting month surplus for the 90kg bags?\n",
        "# Dataset url = http://bit.ly/KisumuFoodSecurityDataset\n",
        "# ---\n",
        "# \n",
        "OUR CODE GOES HERE "
      ],
      "execution_count": null,
      "outputs": []
    },
    {
      "cell_type": "code",
      "metadata": {
        "id": "0V7cj3tZ5Ive"
      },
      "source": [
        "# Challenge 3: Range\n",
        "# ---\n",
        "# What was the range of end of reporting month surplus for the 90kg bags?\n",
        "# Dataset url = http://bit.ly/KisumuFoodSecurityDataset\n",
        "# ---\n",
        "# \n",
        "OUR CODE GOES HERE "
      ],
      "execution_count": null,
      "outputs": []
    },
    {
      "cell_type": "code",
      "metadata": {
        "id": "goQeGKwvEYTR"
      },
      "source": [
        "# Challenge 4: Quantiles\n",
        "# ---\n",
        "# What was the range of end of reporting month surplus for the 90kg bags?\n",
        "# Dataset url = http://bit.ly/KisumuFoodSecurityDataset\n",
        "# ---\n",
        "# \n",
        "OUR CODE GOES HERE "
      ],
      "execution_count": null,
      "outputs": []
    },
    {
      "cell_type": "code",
      "metadata": {
        "id": "9i9AaOF-EZ7M"
      },
      "source": [
        "# Challenge 5: Skewness\n",
        "# ---\n",
        "# What was the skewness of end of reporting month surplus for the 90kg bags?\n",
        "# Dataset url = http://bit.ly/KisumuFoodSecurityDataset\n",
        "# ---\n",
        "# \n",
        "OUR CODE GOES HERE "
      ],
      "execution_count": null,
      "outputs": []
    },
    {
      "cell_type": "code",
      "metadata": {
        "id": "jJG08eSTEbG6"
      },
      "source": [
        "# Challenge 6: Kurtosis \n",
        "# ---\n",
        "# Find the kurtosis of end of reporting month surplus for the 90kg bags?\n",
        "# Dataset url = http://bit.ly/KisumuFoodSecurityDataset\n",
        "# ---\n",
        "# \n",
        "OUR CODE GOES HERE "
      ],
      "execution_count": null,
      "outputs": []
    },
    {
      "cell_type": "markdown",
      "metadata": {
        "id": "kKZFF5-Q6d5c"
      },
      "source": [
        "### 1.33 Visualisation Techniques"
      ]
    },
    {
      "cell_type": "markdown",
      "metadata": {
        "id": "32s_izI76icw"
      },
      "source": [
        "#### 1.41 Box Plots"
      ]
    },
    {
      "cell_type": "code",
      "metadata": {
        "id": "Cf_cAZET6iHd"
      },
      "source": [
        "# Example 1\n",
        "# A boxplot is a standardized way of displaying the distribution of data based on a \n",
        "# five number summary (“minimum”, first quartile (Q1), median, third quartile (Q3), and “maximum”). \n",
        "# It can tell you about your outliers and what their values are. It can also tell you if your data is symmetrical, \n",
        "# how tightly your data is grouped, and if and how your data is skewed.\n",
        "# ---\n",
        "# Question: Plot a box plot of the average herbicide price\n",
        "# Dataset url = http://bit.ly/Kisumu-crop-statistics\n",
        "# ---\n",
        "#\n",
        "\n",
        "# Creating the boxplot\n",
        "#\n",
        "sns.boxplot(nakuru_county_herbicide_prices_df[\"Average_Price\"], showmeans=True)\n"
      ],
      "execution_count": null,
      "outputs": []
    },
    {
      "cell_type": "code",
      "metadata": {
        "id": "QcI9bqIq68t3"
      },
      "source": [
        "# Example 2\n",
        "# ---\n",
        "# Question: Using pandas, create a boxplot of the target yield bags per hectare during the long rains. \n",
        "# Dataset url = http://bit.ly/Kisumu-crop-statistics\n",
        "# ---\n",
        "#\n",
        "\n",
        "# Creating the boxplot\n",
        "#\n",
        "kisumu_crop_statistics_df.boxplot([\"TARGET_YIELD__BAG/HA_LONG_RAINS\"])"
      ],
      "execution_count": null,
      "outputs": []
    },
    {
      "cell_type": "markdown",
      "metadata": {
        "id": "DHNDapES6-4D"
      },
      "source": [
        "##### <font color=\"green\">1.41 Challenges</font>"
      ]
    },
    {
      "cell_type": "code",
      "metadata": {
        "id": "Np_EB-2g7EjP"
      },
      "source": [
        "# Challenge 1\n",
        "# ---\n",
        "# Question: Using pandas, create a boxplot of the target area per hectare during the short rains.\n",
        "# Dataset url = http://bit.ly/Kisumu-crop-statistics\n",
        "# ---\n",
        "# \n",
        "OUR CODE GOES HERE"
      ],
      "execution_count": null,
      "outputs": []
    },
    {
      "cell_type": "code",
      "metadata": {
        "id": "woDc6x7z7Jhf"
      },
      "source": [
        "# Challenge 2\n",
        "# ---\n",
        "# Question: Using pandas, create a boxplot of the target production bags the long rains.\n",
        "# Dataset url = http://bit.ly/Kisumu-crop-statistics\n",
        "# ---\n",
        "#\n",
        "OUR CODE GOES HERE"
      ],
      "execution_count": null,
      "outputs": []
    },
    {
      "cell_type": "markdown",
      "metadata": {
        "id": "NqN2REVg6xM7"
      },
      "source": [
        "#### 1.42 More Histograms"
      ]
    },
    {
      "cell_type": "code",
      "metadata": {
        "id": "cGxxrtln66MY"
      },
      "source": [
        "# Example 1\n",
        "# ---\n",
        "# Question: Plot a histogram of target area during long rains in kisumu county.\n",
        "# Dataset url = http://bit.ly/Kisumu-crop-statistics\n",
        "# ---\n",
        "# \n",
        "\n",
        "# Plotting the histogram\n",
        "#\n",
        "kisumu_crop_statistics_df['TARGET_AREA_HA_LONG_RAINS'].hist()"
      ],
      "execution_count": null,
      "outputs": []
    },
    {
      "cell_type": "code",
      "metadata": {
        "id": "31CPj4mFH2X2"
      },
      "source": [
        "kisumu_crop_statistics_df.head()"
      ],
      "execution_count": null,
      "outputs": []
    },
    {
      "cell_type": "code",
      "metadata": {
        "id": "jZ_y-wGN7Pro"
      },
      "source": [
        "# Example 2\n",
        "# ---\n",
        "# Question: Using Seaborn, Plot a histogram of target area for maize during long rains in kisumu county\n",
        "# ---\n",
        "#\n",
        "\n",
        "# Plotting our histogram\n",
        "#\n",
        "df = kisumu_crop_statistics_df[kisumu_crop_statistics_df.PRODUCE == 'Maize']\n",
        "sns.distplot(kisumu_crop_statistics_df['TARGET_AREA_HA_LONG_RAINS'],  kde=False,label='Maize')"
      ],
      "execution_count": null,
      "outputs": []
    },
    {
      "cell_type": "markdown",
      "metadata": {
        "id": "uXIKUeun7Tz6"
      },
      "source": [
        "#### <font color=\"green\">1.43 Challenges</font>"
      ]
    },
    {
      "cell_type": "code",
      "metadata": {
        "id": "c20egYFA7ZQA"
      },
      "source": [
        "# Challenge 1\n",
        "# ---\n",
        "# Question: Plot a histogram of weight in kgs for fish production\n",
        "# Dataset url = \"http://bit.ly/Kisumu-fish-production\"\n",
        "# ---\n",
        "#\n",
        "OUR CODE GOES HERE"
      ],
      "execution_count": null,
      "outputs": []
    },
    {
      "cell_type": "code",
      "metadata": {
        "id": "8_NmsQOu7aTW"
      },
      "source": [
        "# Challenge 2\n",
        "# ---\n",
        "# Question: Plot a histogram of target yield bags during short rains.\n",
        "# Dataset url = \"http://bit.ly/Kisumu-crop-statistics\"\n",
        "# ---\n",
        "# \n",
        "OUR CODE GOES HERE"
      ],
      "execution_count": null,
      "outputs": []
    },
    {
      "cell_type": "markdown",
      "metadata": {
        "id": "y2tpmU6oFKHX"
      },
      "source": [
        ""
      ]
    },
    {
      "cell_type": "code",
      "metadata": {
        "id": "gOGG_XWoFKiM"
      },
      "source": [
        ""
      ],
      "execution_count": null,
      "outputs": []
    }
  ]
}