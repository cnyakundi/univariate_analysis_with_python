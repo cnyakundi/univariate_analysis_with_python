{
  "nbformat": 4,
  "nbformat_minor": 0,
  "metadata": {
    "colab": {
      "name": "Copy of Exploratory Data Analysis.ipynb",
      "provenance": [],
      "authorship_tag": "ABX9TyOsqvha4A+/iwK+pagIpulH",
      "include_colab_link": true
    },
    "kernelspec": {
      "name": "python3",
      "display_name": "Python 3"
    },
    "language_info": {
      "name": "python"
    }
  },
  "cells": [
    {
      "cell_type": "markdown",
      "metadata": {
        "id": "view-in-github",
        "colab_type": "text"
      },
      "source": [
        "<a href=\"https://colab.research.google.com/github/cnyakundi/univariate_analysis_with_python/blob/master/Copy_of_Exploratory_Data_Analysis.ipynb\" target=\"_parent\"><img src=\"https://colab.research.google.com/assets/colab-badge.svg\" alt=\"Open In Colab\"/></a>"
      ]
    },
    {
      "cell_type": "markdown",
      "metadata": {
        "id": "_RzxK79ggiNz"
      },
      "source": [
        "### Exploratory Data Analysis  using python and other tools "
      ]
    },
    {
      "cell_type": "markdown",
      "metadata": {
        "id": "ukyV8egHiQrn"
      },
      "source": [
        "###  Importing our libraries "
      ]
    },
    {
      "cell_type": "code",
      "metadata": {
        "id": "u7XA-3p2iUW6"
      },
      "source": [
        "#Pandas \n",
        "import pandas as pd \n",
        "# Numpy\n",
        "import numpy as np \n",
        "#Seaborn\n",
        "import seaborn as sns \n",
        "#Matplotlib\n",
        "import matplotlib as plt\n",
        "\n",
        "import matplotlib"
      ],
      "execution_count": null,
      "outputs": []
    },
    {
      "cell_type": "markdown",
      "metadata": {
        "id": "4aDSlGSCikAZ"
      },
      "source": [
        "## Defining Exploratory Data Analysis "
      ]
    },
    {
      "cell_type": "code",
      "metadata": {
        "id": "e9CZY5ilnamP"
      },
      "source": [
        "# Exploratory Data Analysis – EDA – plays a critical role in understanding the what, why, and how of the problem statement. \n",
        "# It’s first in the order of operations that a data analyst will perform when handed a new data source and problem statement.\n",
        "# EDA provides a stage for breaking down problem statements into smaller experiments which can help understand the dataset\n",
        "# EDA provides relevant insights which help analysts make key business decisions\n",
        "# The EDA step provides a platform to run all thought experiments and ultimately guides us towards making a critical decision"
      ],
      "execution_count": null,
      "outputs": []
    },
    {
      "cell_type": "markdown",
      "metadata": {
        "id": "XJ3crr4CnySS"
      },
      "source": [
        "## Our data source "
      ]
    },
    {
      "cell_type": "code",
      "metadata": {
        "id": "E19pupzSoVjn"
      },
      "source": [
        "#Our data is coming from Kaggle \n",
        "\n",
        "url = \"https://www.kaggle.com/flenderson/sales-analysis?select=SalesKaggle3.csv\" "
      ],
      "execution_count": null,
      "outputs": []
    },
    {
      "cell_type": "markdown",
      "metadata": {
        "id": "uillZ4Jcoby8"
      },
      "source": [
        "## Loading our dataset "
      ]
    },
    {
      "cell_type": "code",
      "metadata": {
        "id": "zNzDAPboojMK"
      },
      "source": [
        "sales_data=pd.read_csv('SalesKaggle3.csv') "
      ],
      "execution_count": null,
      "outputs": []
    },
    {
      "cell_type": "markdown",
      "metadata": {
        "id": "YAn4h5b3qZtR"
      },
      "source": [
        "## Previewing our data "
      ]
    },
    {
      "cell_type": "code",
      "metadata": {
        "colab": {
          "base_uri": "https://localhost:8080/",
          "height": 206
        },
        "id": "FR1WNViHqdlV",
        "outputId": "0bdc11ed-745b-4907-bac4-7278fe356f50"
      },
      "source": [
        "sales_data.head()"
      ],
      "execution_count": null,
      "outputs": [
        {
          "output_type": "execute_result",
          "data": {
            "text/html": [
              "<div>\n",
              "<style scoped>\n",
              "    .dataframe tbody tr th:only-of-type {\n",
              "        vertical-align: middle;\n",
              "    }\n",
              "\n",
              "    .dataframe tbody tr th {\n",
              "        vertical-align: top;\n",
              "    }\n",
              "\n",
              "    .dataframe thead th {\n",
              "        text-align: right;\n",
              "    }\n",
              "</style>\n",
              "<table border=\"1\" class=\"dataframe\">\n",
              "  <thead>\n",
              "    <tr style=\"text-align: right;\">\n",
              "      <th></th>\n",
              "      <th>Order</th>\n",
              "      <th>File_Type</th>\n",
              "      <th>SKU_number</th>\n",
              "      <th>SoldFlag</th>\n",
              "      <th>SoldCount</th>\n",
              "      <th>MarketingType</th>\n",
              "      <th>ReleaseNumber</th>\n",
              "      <th>New_Release_Flag</th>\n",
              "      <th>StrengthFactor</th>\n",
              "      <th>PriceReg</th>\n",
              "      <th>ReleaseYear</th>\n",
              "      <th>ItemCount</th>\n",
              "      <th>LowUserPrice</th>\n",
              "      <th>LowNetPrice</th>\n",
              "    </tr>\n",
              "  </thead>\n",
              "  <tbody>\n",
              "    <tr>\n",
              "      <th>0</th>\n",
              "      <td>2</td>\n",
              "      <td>Historical</td>\n",
              "      <td>1737127.0</td>\n",
              "      <td>0.0</td>\n",
              "      <td>0.0</td>\n",
              "      <td>D</td>\n",
              "      <td>15.0</td>\n",
              "      <td>1.0</td>\n",
              "      <td>682743.0</td>\n",
              "      <td>44.99</td>\n",
              "      <td>2015.0</td>\n",
              "      <td>8.0</td>\n",
              "      <td>28.97</td>\n",
              "      <td>31.84</td>\n",
              "    </tr>\n",
              "    <tr>\n",
              "      <th>1</th>\n",
              "      <td>3</td>\n",
              "      <td>Historical</td>\n",
              "      <td>3255963.0</td>\n",
              "      <td>0.0</td>\n",
              "      <td>0.0</td>\n",
              "      <td>D</td>\n",
              "      <td>7.0</td>\n",
              "      <td>1.0</td>\n",
              "      <td>1016014.0</td>\n",
              "      <td>24.81</td>\n",
              "      <td>2005.0</td>\n",
              "      <td>39.0</td>\n",
              "      <td>0.00</td>\n",
              "      <td>15.54</td>\n",
              "    </tr>\n",
              "    <tr>\n",
              "      <th>2</th>\n",
              "      <td>4</td>\n",
              "      <td>Historical</td>\n",
              "      <td>612701.0</td>\n",
              "      <td>0.0</td>\n",
              "      <td>0.0</td>\n",
              "      <td>D</td>\n",
              "      <td>0.0</td>\n",
              "      <td>0.0</td>\n",
              "      <td>340464.0</td>\n",
              "      <td>46.00</td>\n",
              "      <td>2013.0</td>\n",
              "      <td>34.0</td>\n",
              "      <td>30.19</td>\n",
              "      <td>27.97</td>\n",
              "    </tr>\n",
              "    <tr>\n",
              "      <th>3</th>\n",
              "      <td>6</td>\n",
              "      <td>Historical</td>\n",
              "      <td>115883.0</td>\n",
              "      <td>1.0</td>\n",
              "      <td>1.0</td>\n",
              "      <td>D</td>\n",
              "      <td>4.0</td>\n",
              "      <td>1.0</td>\n",
              "      <td>334011.0</td>\n",
              "      <td>100.00</td>\n",
              "      <td>2006.0</td>\n",
              "      <td>20.0</td>\n",
              "      <td>133.93</td>\n",
              "      <td>83.15</td>\n",
              "    </tr>\n",
              "    <tr>\n",
              "      <th>4</th>\n",
              "      <td>7</td>\n",
              "      <td>Historical</td>\n",
              "      <td>863939.0</td>\n",
              "      <td>1.0</td>\n",
              "      <td>1.0</td>\n",
              "      <td>D</td>\n",
              "      <td>2.0</td>\n",
              "      <td>1.0</td>\n",
              "      <td>1287938.0</td>\n",
              "      <td>121.95</td>\n",
              "      <td>2010.0</td>\n",
              "      <td>28.0</td>\n",
              "      <td>4.00</td>\n",
              "      <td>23.99</td>\n",
              "    </tr>\n",
              "  </tbody>\n",
              "</table>\n",
              "</div>"
            ],
            "text/plain": [
              "   Order   File_Type  SKU_number  ...  ItemCount  LowUserPrice LowNetPrice\n",
              "0      2  Historical   1737127.0  ...        8.0         28.97       31.84\n",
              "1      3  Historical   3255963.0  ...       39.0          0.00       15.54\n",
              "2      4  Historical    612701.0  ...       34.0         30.19       27.97\n",
              "3      6  Historical    115883.0  ...       20.0        133.93       83.15\n",
              "4      7  Historical    863939.0  ...       28.0          4.00       23.99\n",
              "\n",
              "[5 rows x 14 columns]"
            ]
          },
          "metadata": {},
          "execution_count": 19
        }
      ]
    },
    {
      "cell_type": "markdown",
      "metadata": {
        "id": "lHK8apuzqob_"
      },
      "source": [
        "## Types of variables and descriptive statistics"
      ]
    },
    {
      "cell_type": "markdown",
      "metadata": {
        "id": "154QyYSanwBb"
      },
      "source": [
        ""
      ]
    },
    {
      "cell_type": "code",
      "metadata": {
        "id": "nr0c0Ug9q8ig"
      },
      "source": [
        "# File_Type: The value “Active” means that the particular product needs investigation\n",
        "# SoldFlag: The value 1 = sale, 0 = no sale in past six months\n",
        "# SKU_number: This is the unique identifier for each product.\n",
        "# Order: Just a sequential counter. Can be ignored.\n",
        "# SoldFlag: 1 = sold in past 6 mos. 0 = Not sold\n",
        "# MarketingType: Two categories of how we market the product.\n",
        "# New_Release_Flag: Any product that has had a future release (i.e., Release Number > 1)"
      ],
      "execution_count": null,
      "outputs": []
    },
    {
      "cell_type": "markdown",
      "metadata": {
        "id": "7W3J0d0XrU9p"
      },
      "source": [
        "## Describing our data"
      ]
    },
    {
      "cell_type": "code",
      "metadata": {
        "id": "SL1S4EVurZnj"
      },
      "source": [
        "# The describe function returns a pandas series type that provides descriptive statistics which summarize the central tendency, dispersion,\n",
        "# and shape of a dataset’s distribution, excluding NaN values. \n",
        "# The three main numerical measures for the center of a distribution are the mode, mean(µ), and the median (M). \n",
        "# The mode is the most frequently occurring value. The mean is the average value, while the median is the middle value."
      ],
      "execution_count": null,
      "outputs": []
    },
    {
      "cell_type": "code",
      "metadata": {
        "colab": {
          "base_uri": "https://localhost:8080/",
          "height": 300
        },
        "id": "9PpAdA-nrhfh",
        "outputId": "56141c56-9335-4e0f-cd98-a63deb160616"
      },
      "source": [
        "#Describing the data \n",
        "\n",
        "sales_data.describe()"
      ],
      "execution_count": null,
      "outputs": [
        {
          "output_type": "execute_result",
          "data": {
            "text/html": [
              "<div>\n",
              "<style scoped>\n",
              "    .dataframe tbody tr th:only-of-type {\n",
              "        vertical-align: middle;\n",
              "    }\n",
              "\n",
              "    .dataframe tbody tr th {\n",
              "        vertical-align: top;\n",
              "    }\n",
              "\n",
              "    .dataframe thead th {\n",
              "        text-align: right;\n",
              "    }\n",
              "</style>\n",
              "<table border=\"1\" class=\"dataframe\">\n",
              "  <thead>\n",
              "    <tr style=\"text-align: right;\">\n",
              "      <th></th>\n",
              "      <th>Order</th>\n",
              "      <th>SKU_number</th>\n",
              "      <th>SoldFlag</th>\n",
              "      <th>SoldCount</th>\n",
              "      <th>ReleaseNumber</th>\n",
              "      <th>New_Release_Flag</th>\n",
              "      <th>StrengthFactor</th>\n",
              "      <th>PriceReg</th>\n",
              "      <th>ReleaseYear</th>\n",
              "      <th>ItemCount</th>\n",
              "      <th>LowUserPrice</th>\n",
              "      <th>LowNetPrice</th>\n",
              "    </tr>\n",
              "  </thead>\n",
              "  <tbody>\n",
              "    <tr>\n",
              "      <th>count</th>\n",
              "      <td>31181.000000</td>\n",
              "      <td>3.118000e+04</td>\n",
              "      <td>31180.000000</td>\n",
              "      <td>31180.000000</td>\n",
              "      <td>31180.000000</td>\n",
              "      <td>31180.000000</td>\n",
              "      <td>3.118000e+04</td>\n",
              "      <td>31180.000000</td>\n",
              "      <td>31180.000000</td>\n",
              "      <td>31180.000000</td>\n",
              "      <td>31180.000000</td>\n",
              "      <td>31180.000000</td>\n",
              "    </tr>\n",
              "    <tr>\n",
              "      <th>mean</th>\n",
              "      <td>15973.125269</td>\n",
              "      <td>5.964081e+05</td>\n",
              "      <td>0.257986</td>\n",
              "      <td>0.510969</td>\n",
              "      <td>4.191661</td>\n",
              "      <td>0.734509</td>\n",
              "      <td>1.496914e+06</td>\n",
              "      <td>109.300651</td>\n",
              "      <td>2005.383740</td>\n",
              "      <td>49.081238</td>\n",
              "      <td>71.760757</td>\n",
              "      <td>47.273906</td>\n",
              "    </tr>\n",
              "    <tr>\n",
              "      <th>std</th>\n",
              "      <td>9173.704925</td>\n",
              "      <td>7.058254e+05</td>\n",
              "      <td>0.437533</td>\n",
              "      <td>1.509490</td>\n",
              "      <td>3.861869</td>\n",
              "      <td>0.441601</td>\n",
              "      <td>1.806908e+06</td>\n",
              "      <td>84.702717</td>\n",
              "      <td>6.050817</td>\n",
              "      <td>41.287237</td>\n",
              "      <td>101.126950</td>\n",
              "      <td>164.155253</td>\n",
              "    </tr>\n",
              "    <tr>\n",
              "      <th>min</th>\n",
              "      <td>2.000000</td>\n",
              "      <td>5.000200e+04</td>\n",
              "      <td>0.000000</td>\n",
              "      <td>0.000000</td>\n",
              "      <td>0.000000</td>\n",
              "      <td>0.000000</td>\n",
              "      <td>2.840000e+02</td>\n",
              "      <td>0.000000</td>\n",
              "      <td>1935.000000</td>\n",
              "      <td>0.000000</td>\n",
              "      <td>0.000000</td>\n",
              "      <td>0.000000</td>\n",
              "    </tr>\n",
              "    <tr>\n",
              "      <th>25%</th>\n",
              "      <td>8047.000000</td>\n",
              "      <td>1.420485e+05</td>\n",
              "      <td>0.000000</td>\n",
              "      <td>0.000000</td>\n",
              "      <td>1.000000</td>\n",
              "      <td>0.000000</td>\n",
              "      <td>2.824730e+05</td>\n",
              "      <td>52.950000</td>\n",
              "      <td>2003.000000</td>\n",
              "      <td>23.000000</td>\n",
              "      <td>37.260000</td>\n",
              "      <td>17.250000</td>\n",
              "    </tr>\n",
              "    <tr>\n",
              "      <th>50%</th>\n",
              "      <td>15979.000000</td>\n",
              "      <td>4.026855e+05</td>\n",
              "      <td>0.000000</td>\n",
              "      <td>0.000000</td>\n",
              "      <td>3.000000</td>\n",
              "      <td>1.000000</td>\n",
              "      <td>8.840100e+05</td>\n",
              "      <td>89.000000</td>\n",
              "      <td>2007.000000</td>\n",
              "      <td>37.000000</td>\n",
              "      <td>61.790000</td>\n",
              "      <td>33.990000</td>\n",
              "    </tr>\n",
              "    <tr>\n",
              "      <th>75%</th>\n",
              "      <td>23910.000000</td>\n",
              "      <td>6.977930e+05</td>\n",
              "      <td>1.000000</td>\n",
              "      <td>1.000000</td>\n",
              "      <td>6.000000</td>\n",
              "      <td>1.000000</td>\n",
              "      <td>2.021823e+06</td>\n",
              "      <td>145.000000</td>\n",
              "      <td>2009.000000</td>\n",
              "      <td>61.000000</td>\n",
              "      <td>96.772500</td>\n",
              "      <td>55.512500</td>\n",
              "    </tr>\n",
              "    <tr>\n",
              "      <th>max</th>\n",
              "      <td>31867.000000</td>\n",
              "      <td>3.959831e+06</td>\n",
              "      <td>1.000000</td>\n",
              "      <td>73.000000</td>\n",
              "      <td>99.000000</td>\n",
              "      <td>1.000000</td>\n",
              "      <td>1.666966e+07</td>\n",
              "      <td>2800.000000</td>\n",
              "      <td>2016.000000</td>\n",
              "      <td>851.000000</td>\n",
              "      <td>14140.210000</td>\n",
              "      <td>19138.790000</td>\n",
              "    </tr>\n",
              "  </tbody>\n",
              "</table>\n",
              "</div>"
            ],
            "text/plain": [
              "              Order    SKU_number  ...  LowUserPrice   LowNetPrice\n",
              "count  31181.000000  3.118000e+04  ...  31180.000000  31180.000000\n",
              "mean   15973.125269  5.964081e+05  ...     71.760757     47.273906\n",
              "std     9173.704925  7.058254e+05  ...    101.126950    164.155253\n",
              "min        2.000000  5.000200e+04  ...      0.000000      0.000000\n",
              "25%     8047.000000  1.420485e+05  ...     37.260000     17.250000\n",
              "50%    15979.000000  4.026855e+05  ...     61.790000     33.990000\n",
              "75%    23910.000000  6.977930e+05  ...     96.772500     55.512500\n",
              "max    31867.000000  3.959831e+06  ...  14140.210000  19138.790000\n",
              "\n",
              "[8 rows x 12 columns]"
            ]
          },
          "metadata": {},
          "execution_count": 22
        }
      ]
    },
    {
      "cell_type": "code",
      "metadata": {
        "colab": {
          "base_uri": "https://localhost:8080/"
        },
        "id": "3DXp6_tmrqC7",
        "outputId": "dacbcbbe-b6aa-4425-f736-70695339ca8b"
      },
      "source": [
        "# Shape of the data \n",
        "\n",
        "print(sales_data.shape)"
      ],
      "execution_count": null,
      "outputs": [
        {
          "output_type": "stream",
          "name": "stdout",
          "text": [
            "(31181, 14)\n"
          ]
        }
      ]
    },
    {
      "cell_type": "code",
      "metadata": {
        "colab": {
          "base_uri": "https://localhost:8080/"
        },
        "id": "BWzQjyhIr_0i",
        "outputId": "80113119-6a44-4c29-89b1-e56fa119519d"
      },
      "source": [
        "# Number of unique products \n",
        "\n",
        "unique_products= sales_data.nunique()\n",
        "\n",
        "unique_products"
      ],
      "execution_count": null,
      "outputs": [
        {
          "output_type": "execute_result",
          "data": {
            "text/plain": [
              "Order               31181\n",
              "File_Type               2\n",
              "SKU_number          31180\n",
              "SoldFlag                2\n",
              "SoldCount              35\n",
              "MarketingType           1\n",
              "ReleaseNumber          46\n",
              "New_Release_Flag        2\n",
              "StrengthFactor      30978\n",
              "PriceReg             5885\n",
              "ReleaseYear            64\n",
              "ItemCount             349\n",
              "LowUserPrice         8414\n",
              "LowNetPrice          8886\n",
              "dtype: int64"
            ]
          },
          "metadata": {},
          "execution_count": 24
        }
      ]
    },
    {
      "cell_type": "code",
      "metadata": {
        "colab": {
          "base_uri": "https://localhost:8080/"
        },
        "id": "eUq6sNCSsiK2",
        "outputId": "390b1e4c-4b95-4823-fc7c-8f1171f5ff55"
      },
      "source": [
        "# Count of the historical and active state, (we need only analyze the active state products):\n",
        "\n",
        "print(sales_data[sales_data['File_Type'] == 'Active']['SKU_number'].count())\n",
        "print(sales_data[sales_data['File_Type'] == 'Historical']['SKU_number'].count())"
      ],
      "execution_count": null,
      "outputs": [
        {
          "output_type": "stream",
          "name": "stdout",
          "text": [
            "0\n",
            "31180\n"
          ]
        }
      ]
    },
    {
      "cell_type": "markdown",
      "metadata": {
        "id": "8et2znW5uF2n"
      },
      "source": [
        "## Univariate and bivariate analysis"
      ]
    },
    {
      "cell_type": "markdown",
      "metadata": {
        "id": "oTBpTh9MukIl"
      },
      "source": [
        "Data associated with each attribute includes a long list of values (both numeric and not), and having these values as a long series is not particularly useful yet – they don’t provide any standalone insight. In order to convert the raw data into information we can actually use, we need to summarize and then examine the variable’s distribution.\n",
        "\n",
        "The univariate distribution plots are graphs where we plot the histograms along with the estimated probability density function over the data. It’s one of the simplest techniques where we consider a single variable and observe its spread and statical properties. The univariate analysis for numerical and categorical attributes are different.\n",
        "\n",
        "For categorical columns we plot histograms, we use the value_count() and plot.bar() functions to draw a bar plot, which is commonly used for representing categorical data using rectangular bars with value counts of the categorical values. In this case, we have two type of marketing types S and D. The bar plot shows comparisons among these discrete categories, with the x-axis showing the specific categories and the y-axis the measured value."
      ]
    },
    {
      "cell_type": "markdown",
      "metadata": {
        "id": "fbK7yP5wu8Vi"
      },
      "source": [
        "## Plotting a bar graph "
      ]
    },
    {
      "cell_type": "code",
      "metadata": {
        "colab": {
          "base_uri": "https://localhost:8080/",
          "height": 278
        },
        "id": "LKLCoPIgu4DN",
        "outputId": "2dbd1514-36b1-47b9-f984-1a54a0233003"
      },
      "source": [
        "# Bar Graph \n",
        "\n",
        "sales_data_hist=sales_data['MarketingType'].value_counts().plot.bar(title='Freq dist of Marketing Type')"
      ],
      "execution_count": null,
      "outputs": [
        {
          "output_type": "display_data",
          "data": {
            "image/png": "[encoded data removed]",
            "text/plain": [
              "<Figure size 432x288 with 1 Axes>"
            ]
          },
          "metadata": {
            "needs_background": "light"
          }
        }
      ]
    },
    {
      "cell_type": "markdown",
      "metadata": {
        "id": "Yj03Iz6yvtzg"
      },
      "source": [
        "## Missing value analysis"
      ]
    },
    {
      "cell_type": "markdown",
      "metadata": {
        "id": "BqqlV2cevxb9"
      },
      "source": [
        "Missing values in the dataset refer to those fields which are empty or no values assigned to them, these usually occur due to data entry errors, faults that occur with data collection processes and often while joining multiple columns from different tables we find a condition which leads to missing values. There are numerous ways with which missing values are treated the easiest ones are to replace the missing value with the mean, median, mode or a constant value (we come to a value based on the domain knowledge) and another alternative is to remove the entry from the dataset itself.\n",
        "\n",
        "In our dataset we don’t have missing values, thus we are not performing any operations on the dataset that said here are few sample code snippets that will help you perform missing value treatment in python."
      ]
    },
    {
      "cell_type": "code",
      "metadata": {
        "colab": {
          "base_uri": "https://localhost:8080/"
        },
        "id": "kyNzc-Qvv2zO",
        "outputId": "15775036-765c-4bc2-f9f7-53f6723ed1c3"
      },
      "source": [
        "#Checking for null values \n",
        "\n",
        "null_values=sales_data.isnull().values.any()\n",
        "\n",
        "null_values"
      ],
      "execution_count": null,
      "outputs": [
        {
          "output_type": "execute_result",
          "data": {
            "text/plain": [
              "True"
            ]
          },
          "metadata": {},
          "execution_count": 41
        }
      ]
    },
    {
      "cell_type": "code",
      "metadata": {
        "colab": {
          "base_uri": "https://localhost:8080/"
        },
        "id": "9xUhKhacwLSU",
        "outputId": "cb164a4a-735e-427d-ded9-d60520014a80"
      },
      "source": [
        "# Counting number of null values after confirming their existence \n",
        "the_null_values_count=sales_data.isnull().sum()\n",
        "\n",
        "the_null_values_count"
      ],
      "execution_count": null,
      "outputs": [
        {
          "output_type": "execute_result",
          "data": {
            "text/plain": [
              "Order               0\n",
              "File_Type           0\n",
              "SKU_number          1\n",
              "SoldFlag            1\n",
              "SoldCount           1\n",
              "MarketingType       1\n",
              "ReleaseNumber       1\n",
              "New_Release_Flag    1\n",
              "StrengthFactor      1\n",
              "PriceReg            1\n",
              "ReleaseYear         1\n",
              "ItemCount           1\n",
              "LowUserPrice        1\n",
              "LowNetPrice         1\n",
              "dtype: int64"
            ]
          },
          "metadata": {},
          "execution_count": 45
        }
      ]
    },
    {
      "cell_type": "markdown",
      "metadata": {
        "id": "vEa94pGHwxfR"
      },
      "source": [
        "## Outlier detection analysis"
      ]
    }
  ]
}